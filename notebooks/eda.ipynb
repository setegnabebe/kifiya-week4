{
 "cells": [
  {
   "cell_type": "markdown",
   "metadata": {},
   "source": [
    "            DATA ANALYSIS FOR PHARMOUTICAL DATA "
   ]
  },
  {
   "cell_type": "code",
   "execution_count": 3,
   "metadata": {},
   "outputs": [],
   "source": [
    "\n",
    "import pandas as pd\n",
    "import numpy as np\n",
    "import matplotlib.pyplot as plt\n",
    "import seaborn as sns\n",
    "import logging\n",
    "import warnings\n",
    "\n"
   ]
  },
  {
   "cell_type": "code",
   "execution_count": 4,
   "metadata": {},
   "outputs": [],
   "source": [
    "logging.basicConfig(level=logging.INFO, filename='../log/data_exploration.log', \n",
    "                    format='%(asctime)s - %(levelname)s - %(message)s')"
   ]
  },
  {
   "cell_type": "code",
   "execution_count": 7,
   "metadata": {},
   "outputs": [],
   "source": [
    "train_data = pd.read_csv('../data/train.csv', low_memory=False)\n",
    "test_data = pd.read_csv('../data/test.csv', low_memory=False)\n",
    "store_data = pd.read_csv('../data/store.csv', low_memory=False)\n",
    "\n",
    "logging.info(\"Data Loaded: Train data shape: {}, Test data shape: {}\".format(train_data.shape, test_data.shape))\n"
   ]
  },
  {
   "cell_type": "code",
   "execution_count": 8,
   "metadata": {},
   "outputs": [],
   "source": [
    "missing_values_train = train_data.isnull().sum()\n",
    "missing_values_test = test_data.isnull().sum()\n",
    "\n",
    "logging.info(\"Missing values in train data:\\n{}\".format(missing_values_train[missing_values_train > 0]))\n",
    "logging.info(\"Missing values in test data:\\n{}\".format(missing_values_test[missing_values_test > 0]))\n"
   ]
  },
  {
   "cell_type": "code",
   "execution_count": 9,
   "metadata": {},
   "outputs": [],
   "source": [
    "train_data.dropna(inplace=True)"
   ]
  },
  {
   "cell_type": "code",
   "execution_count": 10,
   "metadata": {},
   "outputs": [],
   "source": [
    "Q1 = train_data['Sales'].quantile(0.25)\n",
    "Q3 = train_data['Sales'].quantile(0.75)\n",
    "IQR = Q3 - Q1\n",
    "outliers = train_data[(train_data['Sales'] < (Q1 - 1.5 * IQR)) | (train_data['Sales'] > (Q3 + 1.5 * IQR))]\n",
    "\n",
    "logging.info(\"Number of outliers detected: {}\".format(outliers.shape[0]))\n",
    "\n"
   ]
  }
 ],
 "metadata": {
  "kernelspec": {
   "display_name": ".venv",
   "language": "python",
   "name": "python3"
  },
  "language_info": {
   "codemirror_mode": {
    "name": "ipython",
    "version": 3
   },
   "file_extension": ".py",
   "mimetype": "text/x-python",
   "name": "python",
   "nbconvert_exporter": "python",
   "pygments_lexer": "ipython3",
   "version": "3.10.12"
  }
 },
 "nbformat": 4,
 "nbformat_minor": 2
}
